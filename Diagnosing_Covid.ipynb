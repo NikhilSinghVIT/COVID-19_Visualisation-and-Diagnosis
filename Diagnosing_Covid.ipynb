{
 "cells": [
  {
   "cell_type": "code",
   "execution_count": 12,
   "metadata": {},
   "outputs": [],
   "source": [
    "from tensorflow.keras.preprocessing.image import ImageDataGenerator\n",
    "from tensorflow.keras.applications import VGG16\n",
    "from tensorflow.keras.layers import MaxPooling2D,Dropout,Flatten,Dense,Conv2D\n",
    "from tensorflow.keras import Sequential\n",
    "from tensorflow.keras.models import Model\n",
    "from tensorflow.keras.optimizers import Adam\n",
    "from tensorflow.keras.utils import to_categorical\n",
    "from sklearn.preprocessing import LabelBinarizer\n",
    "from sklearn.model_selection import train_test_split\n",
    "from sklearn.metrics import classification_report\n",
    "from sklearn.metrics import confusion_matrix\n",
    "from imutils import paths\n",
    "import matplotlib.pyplot as plt\n",
    "import numpy as np\n",
    "import cv2\n",
    "import os"
   ]
  },
  {
   "cell_type": "code",
   "execution_count": 2,
   "metadata": {},
   "outputs": [],
   "source": [
    "train_datagen = ImageDataGenerator(rescale = 1./255,\n",
    "                                   shear_range = 0.2,\n",
    "                                   zoom_range = 0.2,\n",
    "                                   horizontal_flip = True)"
   ]
  },
  {
   "cell_type": "code",
   "execution_count": 3,
   "metadata": {},
   "outputs": [],
   "source": [
    "test_datagen = ImageDataGenerator(rescale = 1./255)"
   ]
  },
  {
   "cell_type": "code",
   "execution_count": 7,
   "metadata": {},
   "outputs": [
    {
     "name": "stdout",
     "output_type": "stream",
     "text": [
      "Found 30 images belonging to 2 classes.\n"
     ]
    }
   ],
   "source": [
    "training_set = train_datagen.flow_from_directory('dataset/training_set',\n",
    "                                                 target_size = (64, 64),\n",
    "                                                 batch_size = 2,\n",
    "                                                 class_mode = 'binary')"
   ]
  },
  {
   "cell_type": "code",
   "execution_count": 9,
   "metadata": {},
   "outputs": [
    {
     "name": "stdout",
     "output_type": "stream",
     "text": [
      "Found 20 images belonging to 2 classes.\n"
     ]
    }
   ],
   "source": [
    "test_set = test_datagen.flow_from_directory('dataset/test_set',\n",
    "                                            target_size = (64, 64),\n",
    "                                            batch_size = 2,\n",
    "                                            class_mode = 'binary')"
   ]
  },
  {
   "cell_type": "code",
   "execution_count": 10,
   "metadata": {},
   "outputs": [
    {
     "data": {
      "text/plain": [
       "<keras_preprocessing.image.directory_iterator.DirectoryIterator at 0x18ff3e07ac8>"
      ]
     },
     "execution_count": 10,
     "metadata": {},
     "output_type": "execute_result"
    }
   ],
   "source": [
    "training_set"
   ]
  },
  {
   "cell_type": "code",
   "execution_count": 13,
   "metadata": {},
   "outputs": [],
   "source": [
    "classifier = Sequential()\n",
    "classifier.add(Conv2D(32, (3, 3), input_shape = (64, 64, 3), activation = 'relu'))\n",
    "classifier.add(MaxPooling2D(pool_size = (2, 2)))\n",
    "classifier.add(Conv2D(32, (3, 3), activation = 'relu'))\n",
    "classifier.add(MaxPooling2D(pool_size = (2, 2)))\n",
    "classifier.add(Flatten())\n",
    "classifier.add(Dense(units = 128, activation = 'relu'))\n",
    "classifier.add(Dense(units = 1, activation = 'sigmoid'))\n",
    "\n",
    "classifier.compile(optimizer = 'adam', loss = 'binary_crossentropy', metrics = ['accuracy'])"
   ]
  },
  {
   "cell_type": "code",
   "execution_count": 19,
   "metadata": {},
   "outputs": [
    {
     "name": "stderr",
     "output_type": "stream",
     "text": [
      "W0412 00:08:46.703330 76764 data_adapter.py:1091] sample_weight modes were coerced from\n",
      "  ...\n",
      "    to  \n",
      "  ['...']\n",
      "W0412 00:08:46.778091 76764 data_adapter.py:1091] sample_weight modes were coerced from\n",
      "  ...\n",
      "    to  \n",
      "  ['...']\n"
     ]
    },
    {
     "name": "stdout",
     "output_type": "stream",
     "text": [
      "Train for 15 steps, validate for 10 steps\n",
      "Epoch 1/50\n",
      "15/15 [==============================] - 2s 140ms/step - loss: 0.0667 - accuracy: 0.9667 - val_loss: 1.0329 - val_accuracy: 0.7500\n",
      "Epoch 2/50\n",
      "15/15 [==============================] - 3s 176ms/step - loss: 0.0346 - accuracy: 1.0000 - val_loss: 0.4472 - val_accuracy: 0.9500\n",
      "Epoch 3/50\n",
      "15/15 [==============================] - 3s 182ms/step - loss: 0.0806 - accuracy: 0.9667 - val_loss: 0.2104 - val_accuracy: 0.9500\n",
      "Epoch 4/50\n",
      "15/15 [==============================] - 3s 173ms/step - loss: 0.0116 - accuracy: 1.0000 - val_loss: 0.4199 - val_accuracy: 0.9500\n",
      "Epoch 5/50\n",
      "15/15 [==============================] - 2s 165ms/step - loss: 0.0048 - accuracy: 1.0000 - val_loss: 0.5266 - val_accuracy: 0.9500\n",
      "Epoch 6/50\n",
      "15/15 [==============================] - 2s 166ms/step - loss: 0.0118 - accuracy: 1.0000 - val_loss: 0.3718 - val_accuracy: 0.9500\n",
      "Epoch 7/50\n",
      "15/15 [==============================] - 3s 177ms/step - loss: 0.0145 - accuracy: 1.0000 - val_loss: 0.3291 - val_accuracy: 0.9500\n",
      "Epoch 8/50\n",
      "15/15 [==============================] - 2s 161ms/step - loss: 0.0230 - accuracy: 1.0000 - val_loss: 0.3198 - val_accuracy: 0.9500\n",
      "Epoch 9/50\n",
      "15/15 [==============================] - 3s 174ms/step - loss: 0.1610 - accuracy: 0.9333 - val_loss: 0.4474 - val_accuracy: 0.9500\n",
      "Epoch 10/50\n",
      "15/15 [==============================] - 3s 211ms/step - loss: 0.0287 - accuracy: 1.0000 - val_loss: 0.4267 - val_accuracy: 0.9500\n",
      "Epoch 11/50\n",
      "15/15 [==============================] - 3s 188ms/step - loss: 0.2121 - accuracy: 0.9333 - val_loss: 0.3549 - val_accuracy: 0.9500\n",
      "Epoch 12/50\n",
      "15/15 [==============================] - 2s 160ms/step - loss: 0.0527 - accuracy: 0.9667 - val_loss: 0.3134 - val_accuracy: 0.9500\n",
      "Epoch 13/50\n",
      "15/15 [==============================] - 2s 145ms/step - loss: 0.0617 - accuracy: 0.9667 - val_loss: 0.3500 - val_accuracy: 0.9500\n",
      "Epoch 14/50\n",
      "15/15 [==============================] - 2s 145ms/step - loss: 0.0235 - accuracy: 1.0000 - val_loss: 0.4549 - val_accuracy: 0.9500\n",
      "Epoch 15/50\n",
      "15/15 [==============================] - 2s 141ms/step - loss: 0.0497 - accuracy: 0.9667 - val_loss: 0.5173 - val_accuracy: 0.9500\n",
      "Epoch 16/50\n",
      "15/15 [==============================] - 2s 144ms/step - loss: 0.0176 - accuracy: 1.0000 - val_loss: 0.9417 - val_accuracy: 0.8000\n",
      "Epoch 17/50\n",
      "15/15 [==============================] - 2s 144ms/step - loss: 0.0589 - accuracy: 0.9667 - val_loss: 0.5187 - val_accuracy: 0.9500\n",
      "Epoch 18/50\n",
      "15/15 [==============================] - 2s 157ms/step - loss: 0.0028 - accuracy: 1.0000 - val_loss: 0.7427 - val_accuracy: 0.9000\n",
      "Epoch 19/50\n",
      "15/15 [==============================] - 3s 182ms/step - loss: 0.0048 - accuracy: 1.0000 - val_loss: 1.0035 - val_accuracy: 0.9000\n",
      "Epoch 20/50\n",
      "15/15 [==============================] - 2s 145ms/step - loss: 0.2011 - accuracy: 0.9333 - val_loss: 0.3611 - val_accuracy: 0.9500\n",
      "Epoch 21/50\n",
      "15/15 [==============================] - 2s 149ms/step - loss: 0.0651 - accuracy: 0.9667 - val_loss: 0.5114 - val_accuracy: 0.9000\n",
      "Epoch 22/50\n",
      "15/15 [==============================] - 2s 146ms/step - loss: 0.0546 - accuracy: 1.0000 - val_loss: 0.2410 - val_accuracy: 0.9500\n",
      "Epoch 23/50\n",
      "15/15 [==============================] - 2s 146ms/step - loss: 0.0164 - accuracy: 1.0000 - val_loss: 0.6957 - val_accuracy: 0.9000\n",
      "Epoch 24/50\n",
      "15/15 [==============================] - 2s 142ms/step - loss: 0.0087 - accuracy: 1.0000 - val_loss: 0.5663 - val_accuracy: 0.9500\n",
      "Epoch 25/50\n",
      "15/15 [==============================] - 2s 141ms/step - loss: 0.0491 - accuracy: 0.9667 - val_loss: 0.7924 - val_accuracy: 0.9000\n",
      "Epoch 26/50\n",
      "15/15 [==============================] - 2s 142ms/step - loss: 0.0188 - accuracy: 1.0000 - val_loss: 0.5796 - val_accuracy: 0.9000\n",
      "Epoch 27/50\n",
      "15/15 [==============================] - 2s 142ms/step - loss: 0.0108 - accuracy: 1.0000 - val_loss: 0.4424 - val_accuracy: 0.9500\n",
      "Epoch 28/50\n",
      "15/15 [==============================] - 2s 143ms/step - loss: 0.0056 - accuracy: 1.0000 - val_loss: 0.4948 - val_accuracy: 0.9500\n",
      "Epoch 29/50\n",
      "15/15 [==============================] - 2s 147ms/step - loss: 0.0233 - accuracy: 1.0000 - val_loss: 0.7076 - val_accuracy: 0.9000\n",
      "Epoch 30/50\n",
      "15/15 [==============================] - 2s 145ms/step - loss: 0.0116 - accuracy: 1.0000 - val_loss: 0.7229 - val_accuracy: 0.9500\n",
      "Epoch 31/50\n",
      "15/15 [==============================] - 2s 141ms/step - loss: 0.0297 - accuracy: 0.9667 - val_loss: 1.0165 - val_accuracy: 0.9000\n",
      "Epoch 32/50\n",
      "15/15 [==============================] - 2s 143ms/step - loss: 0.0057 - accuracy: 1.0000 - val_loss: 0.6870 - val_accuracy: 0.9500\n",
      "Epoch 33/50\n",
      "15/15 [==============================] - 2s 143ms/step - loss: 0.0038 - accuracy: 1.0000 - val_loss: 0.9343 - val_accuracy: 0.9000\n",
      "Epoch 34/50\n",
      "15/15 [==============================] - 2s 139ms/step - loss: 0.0010 - accuracy: 1.0000 - val_loss: 1.0394 - val_accuracy: 0.9000\n",
      "Epoch 35/50\n",
      "15/15 [==============================] - 2s 146ms/step - loss: 0.0212 - accuracy: 1.0000 - val_loss: 0.7038 - val_accuracy: 0.9500\n",
      "Epoch 36/50\n",
      "15/15 [==============================] - 2s 139ms/step - loss: 8.4153e-04 - accuracy: 1.0000 - val_loss: 1.2831 - val_accuracy: 0.8000\n",
      "Epoch 37/50\n",
      "15/15 [==============================] - 2s 142ms/step - loss: 0.0049 - accuracy: 1.0000 - val_loss: 0.7226 - val_accuracy: 0.9000\n",
      "Epoch 38/50\n",
      "15/15 [==============================] - 2s 142ms/step - loss: 0.0015 - accuracy: 1.0000 - val_loss: 0.5945 - val_accuracy: 0.9500\n",
      "Epoch 39/50\n",
      "15/15 [==============================] - 2s 150ms/step - loss: 0.0248 - accuracy: 1.0000 - val_loss: 1.1675 - val_accuracy: 0.9000\n",
      "Epoch 40/50\n",
      "15/15 [==============================] - 2s 144ms/step - loss: 0.0019 - accuracy: 1.0000 - val_loss: 0.7597 - val_accuracy: 0.9500\n",
      "Epoch 41/50\n",
      "15/15 [==============================] - 2s 141ms/step - loss: 0.0019 - accuracy: 1.0000 - val_loss: 1.0315 - val_accuracy: 0.9000\n",
      "Epoch 42/50\n",
      "15/15 [==============================] - 2s 145ms/step - loss: 0.0868 - accuracy: 0.9333 - val_loss: 0.5949 - val_accuracy: 0.9000\n",
      "Epoch 43/50\n",
      "15/15 [==============================] - 2s 140ms/step - loss: 0.1303 - accuracy: 0.9667 - val_loss: 1.6423 - val_accuracy: 0.9000\n",
      "Epoch 44/50\n",
      "15/15 [==============================] - 2s 140ms/step - loss: 0.2213 - accuracy: 0.9333 - val_loss: 0.3884 - val_accuracy: 0.9000\n",
      "Epoch 45/50\n",
      "15/15 [==============================] - 2s 139ms/step - loss: 0.3799 - accuracy: 0.9333 - val_loss: 0.7046 - val_accuracy: 0.9500\n",
      "Epoch 46/50\n",
      "15/15 [==============================] - 2s 145ms/step - loss: 0.1084 - accuracy: 0.9333 - val_loss: 0.9414 - val_accuracy: 0.8000\n",
      "Epoch 47/50\n",
      "15/15 [==============================] - 2s 144ms/step - loss: 0.0167 - accuracy: 1.0000 - val_loss: 0.6376 - val_accuracy: 0.9500\n",
      "Epoch 48/50\n",
      "15/15 [==============================] - 2s 140ms/step - loss: 0.0077 - accuracy: 1.0000 - val_loss: 0.4377 - val_accuracy: 0.9500\n",
      "Epoch 49/50\n",
      "15/15 [==============================] - 2s 151ms/step - loss: 0.0014 - accuracy: 1.0000 - val_loss: 0.4229 - val_accuracy: 0.9500\n",
      "Epoch 50/50\n",
      "15/15 [==============================] - 2s 148ms/step - loss: 0.0087 - accuracy: 1.0000 - val_loss: 0.3869 - val_accuracy: 0.9500\n"
     ]
    }
   ],
   "source": [
    "r = classifier.fit_generator(training_set,\n",
    "                         epochs = 50,\n",
    "                         validation_data = test_set,\n",
    "                         )"
   ]
  },
  {
   "cell_type": "code",
   "execution_count": 20,
   "metadata": {},
   "outputs": [
    {
     "data": {
      "text/plain": [
       "<matplotlib.legend.Legend at 0x18f80534dd8>"
      ]
     },
     "execution_count": 20,
     "metadata": {},
     "output_type": "execute_result"
    },
    {
     "data": {
      "image/png": "[encoded data removed]",
      "text/plain": [
       "<Figure size 432x288 with 1 Axes>"
      ]
     },
     "metadata": {
      "needs_background": "light"
     },
     "output_type": "display_data"
    }
   ],
   "source": [
    "# Plot loss per iteration\n",
    "import matplotlib.pyplot as plt\n",
    "plt.plot(r.history['loss'], label='loss')\n",
    "plt.plot(r.history['val_loss'], label='val_loss')\n",
    "plt.legend()"
   ]
  },
  {
   "cell_type": "code",
   "execution_count": 21,
   "metadata": {},
   "outputs": [
    {
     "data": {
      "text/plain": [
       "<matplotlib.legend.Legend at 0x18f805dce48>"
      ]
     },
     "execution_count": 21,
     "metadata": {},
     "output_type": "execute_result"
    },
    {
     "data": {
      "image/png": "[encoded data removed]",
      "text/plain": [
       "<Figure size 432x288 with 1 Axes>"
      ]
     },
     "metadata": {
      "needs_background": "light"
     },
     "output_type": "display_data"
    }
   ],
   "source": [
    "# Plot accuracy per iteration\n",
    "plt.plot(r.history['accuracy'], label='acc')\n",
    "plt.plot(r.history['val_accuracy'], label='val_acc')\n",
    "plt.legend()"
   ]
  },
  {
   "cell_type": "code",
   "execution_count": null,
   "metadata": {},
   "outputs": [],
   "source": []
  }
 ],
 "metadata": {
  "kernelspec": {
   "display_name": "Python 3",
   "language": "python",
   "name": "python3"
  },
  "language_info": {
   "codemirror_mode": {
    "name": "ipython",
    "version": 3
   },
   "file_extension": ".py",
   "mimetype": "text/x-python",
   "name": "python",
   "nbconvert_exporter": "python",
   "pygments_lexer": "ipython3",
   "version": "3.7.3"
  }
 },
 "nbformat": 4,
 "nbformat_minor": 2
}
